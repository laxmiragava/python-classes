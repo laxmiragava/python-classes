{
 "cells": [
  {
   "cell_type": "code",
   "execution_count": null,
   "id": "b503bb8d",
   "metadata": {},
   "outputs": [],
   "source": [
    "# AND OR OPRETIONS"
   ]
  },
  {
   "cell_type": "code",
   "execution_count": 1,
   "id": "f28d2ff0",
   "metadata": {},
   "outputs": [
    {
     "data": {
      "text/plain": [
       "False"
      ]
     },
     "execution_count": 1,
     "metadata": {},
     "output_type": "execute_result"
    }
   ],
   "source": [
    "(3>1) and (5<2)"
   ]
  },
  {
   "cell_type": "code",
   "execution_count": 2,
   "id": "d6d78e5a",
   "metadata": {},
   "outputs": [
    {
     "data": {
      "text/plain": [
       "True"
      ]
     },
     "execution_count": 2,
     "metadata": {},
     "output_type": "execute_result"
    }
   ],
   "source": [
    "(3>1) and (5<6)"
   ]
  },
  {
   "cell_type": "code",
   "execution_count": 13,
   "id": "62e3a525",
   "metadata": {},
   "outputs": [
    {
     "data": {
      "text/plain": [
       "False"
      ]
     },
     "execution_count": 13,
     "metadata": {},
     "output_type": "execute_result"
    }
   ],
   "source": [
    "(3>8) and (5<6)"
   ]
  },
  {
   "cell_type": "code",
   "execution_count": 8,
   "id": "35d16b09",
   "metadata": {},
   "outputs": [
    {
     "data": {
      "text/plain": [
       "False"
      ]
     },
     "execution_count": 8,
     "metadata": {},
     "output_type": "execute_result"
    }
   ],
   "source": [
    "(3>7) and (5>8)"
   ]
  },
  {
   "cell_type": "code",
   "execution_count": 5,
   "id": "e44d99c4",
   "metadata": {},
   "outputs": [
    {
     "data": {
      "text/plain": [
       "True"
      ]
     },
     "execution_count": 5,
     "metadata": {},
     "output_type": "execute_result"
    }
   ],
   "source": [
    "(3>1) or (5<2)"
   ]
  },
  {
   "cell_type": "code",
   "execution_count": 6,
   "id": "877e6aa6",
   "metadata": {},
   "outputs": [
    {
     "data": {
      "text/plain": [
       "True"
      ]
     },
     "execution_count": 6,
     "metadata": {},
     "output_type": "execute_result"
    }
   ],
   "source": [
    "(3>1) or (5<6)"
   ]
  },
  {
   "cell_type": "code",
   "execution_count": 15,
   "id": "bb6c1881",
   "metadata": {},
   "outputs": [
    {
     "data": {
      "text/plain": [
       "True"
      ]
     },
     "execution_count": 15,
     "metadata": {},
     "output_type": "execute_result"
    }
   ],
   "source": [
    "(3>8) or (5<6)"
   ]
  },
  {
   "cell_type": "code",
   "execution_count": 10,
   "id": "8c7e11e9",
   "metadata": {},
   "outputs": [
    {
     "data": {
      "text/plain": [
       "False"
      ]
     },
     "execution_count": 10,
     "metadata": {},
     "output_type": "execute_result"
    }
   ],
   "source": [
    "(3>7) or (5>8)"
   ]
  },
  {
   "cell_type": "code",
   "execution_count": 16,
   "id": "ec490fac",
   "metadata": {},
   "outputs": [
    {
     "data": {
      "text/plain": [
       "True"
      ]
     },
     "execution_count": 16,
     "metadata": {},
     "output_type": "execute_result"
    }
   ],
   "source": [
    "((3>1) and (5<6)) and ((3>8) or (5<6))"
   ]
  },
  {
   "cell_type": "code",
   "execution_count": 12,
   "id": "59c1b636",
   "metadata": {},
   "outputs": [
    {
     "data": {
      "text/plain": [
       "True"
      ]
     },
     "execution_count": 12,
     "metadata": {},
     "output_type": "execute_result"
    }
   ],
   "source": [
    "((3>1) or (5<2)) and ((3>1) or (5<2))"
   ]
  },
  {
   "cell_type": "code",
   "execution_count": 17,
   "id": "24ef92ff",
   "metadata": {},
   "outputs": [
    {
     "data": {
      "text/plain": [
       "False"
      ]
     },
     "execution_count": 17,
     "metadata": {},
     "output_type": "execute_result"
    }
   ],
   "source": [
    "((3>1) and (5<2)) and ((3>1) or (5<2))"
   ]
  },
  {
   "cell_type": "code",
   "execution_count": 18,
   "id": "ddc60e89",
   "metadata": {},
   "outputs": [
    {
     "data": {
      "text/plain": [
       "False"
      ]
     },
     "execution_count": 18,
     "metadata": {},
     "output_type": "execute_result"
    }
   ],
   "source": [
    "((3>1) or (5<2)) and ((3>1) and (5<2))"
   ]
  },
  {
   "cell_type": "code",
   "execution_count": null,
   "id": "097afe29",
   "metadata": {},
   "outputs": [],
   "source": [
    "# list operetions"
   ]
  },
  {
   "cell_type": "code",
   "execution_count": 20,
   "id": "dd4b8be7",
   "metadata": {},
   "outputs": [
    {
     "name": "stdout",
     "output_type": "stream",
     "text": [
      "[5, 9, 8, 7]\n"
     ]
    }
   ],
   "source": [
    "list =[];\n",
    "list.insert(0,5);\n",
    "list.insert(1,9);\n",
    "list.insert(2,8);\n",
    "list.insert(3,7);\n",
    "print(list);"
   ]
  },
  {
   "cell_type": "code",
   "execution_count": 25,
   "id": "f0ca250e",
   "metadata": {},
   "outputs": [
    {
     "name": "stdout",
     "output_type": "stream",
     "text": [
      "[8, 12, 13, 15]\n"
     ]
    }
   ],
   "source": [
    "list1 =[];\n",
    "list1.insert(0,8);\n",
    "list1.insert(1,12);\n",
    "list1.insert(2,13);\n",
    "list1.insert(3,15);\n",
    "print(list1);"
   ]
  },
  {
   "cell_type": "code",
   "execution_count": 26,
   "id": "5ea9150b",
   "metadata": {},
   "outputs": [
    {
     "name": "stdout",
     "output_type": "stream",
     "text": [
      "[8, 17, 12, 13, 15]\n"
     ]
    }
   ],
   "source": [
    "list1.insert(1,17);\n",
    "print(list1);"
   ]
  },
  {
   "cell_type": "code",
   "execution_count": 1,
   "id": "ceefbdfa",
   "metadata": {},
   "outputs": [
    {
     "name": "stdout",
     "output_type": "stream",
     "text": [
      "[7, 8, 4, 5, 5, 9, 6]\n"
     ]
    }
   ],
   "source": [
    "list2=[7,8,4,5];\n",
    "list3=[5,9,6];\n",
    "print(list2+list3)"
   ]
  },
  {
   "cell_type": "code",
   "execution_count": 3,
   "id": "6f934336",
   "metadata": {},
   "outputs": [
    {
     "name": "stdout",
     "output_type": "stream",
     "text": [
      "[7, 8, 4, 5, 5, 9, 6]\n"
     ]
    }
   ],
   "source": [
    "list2=[7,8,4,5];\n",
    "list3=[5,9,6];\n",
    "list2.extend(list3);\n",
    "print(list2);"
   ]
  },
  {
   "cell_type": "code",
   "execution_count": 10,
   "id": "fb0d08bf",
   "metadata": {},
   "outputs": [],
   "source": [
    "list2=[7,8,4,5];\n",
    "list2.remove(4);"
   ]
  },
  {
   "cell_type": "code",
   "execution_count": 4,
   "id": "2aa549ca",
   "metadata": {},
   "outputs": [
    {
     "name": "stdout",
     "output_type": "stream",
     "text": [
      "1911038272256\n"
     ]
    }
   ],
   "source": [
    "#MEMORY LOCATION ADDRESS\n",
    "list4=[4,8,5,9]\n",
    "print(id(list4))"
   ]
  },
  {
   "cell_type": "code",
   "execution_count": null,
   "id": "76371c96",
   "metadata": {},
   "outputs": [],
   "source": [
    "# SPLITING"
   ]
  },
  {
   "cell_type": "code",
   "execution_count": 5,
   "id": "f89a6326",
   "metadata": {},
   "outputs": [
    {
     "name": "stdout",
     "output_type": "stream",
     "text": [
      "['I', 'AM', 'LERNING', 'PYTHON', 'CLASSES']\n"
     ]
    }
   ],
   "source": [
    "k=\"I AM LERNING PYTHON CLASSES\";\n",
    "list=k.split();\n",
    "print(list);"
   ]
  },
  {
   "cell_type": "code",
   "execution_count": 19,
   "id": "ba3365ef",
   "metadata": {},
   "outputs": [],
   "source": [
    "list5=[7,8,4,5,6,9,10];\n",
    "list5.reverse();"
   ]
  },
  {
   "cell_type": "code",
   "execution_count": 22,
   "id": "461513a7",
   "metadata": {},
   "outputs": [],
   "source": [
    "list6=[7,8,4,5,6,9,10];\n",
    "sort=sorted(list6);"
   ]
  },
  {
   "cell_type": "code",
   "execution_count": 23,
   "id": "5106c4a2",
   "metadata": {},
   "outputs": [],
   "source": [
    "# slicing"
   ]
  },
  {
   "cell_type": "code",
   "execution_count": 21,
   "id": "a36a347a",
   "metadata": {},
   "outputs": [
    {
     "name": "stdout",
     "output_type": "stream",
     "text": [
      "[1, 2, 3]\n"
     ]
    }
   ],
   "source": [
    "list7=[1,2,3,4,5,6,7,8,9,10]\n",
    "print(list7[0:3]);"
   ]
  },
  {
   "cell_type": "code",
   "execution_count": 24,
   "id": "8528575d",
   "metadata": {
    "scrolled": true
   },
   "outputs": [
    {
     "name": "stdout",
     "output_type": "stream",
     "text": [
      "[1, 2, 3, 4, 5, 6]\n"
     ]
    }
   ],
   "source": [
    "list7=[1,2,3,4,5,6,7,8,9,10]\n",
    "print(list7[0:6]);"
   ]
  },
  {
   "cell_type": "code",
   "execution_count": 25,
   "id": "780e219c",
   "metadata": {},
   "outputs": [
    {
     "name": "stdout",
     "output_type": "stream",
     "text": [
      "[11, 12, 13, 14, 15]\n"
     ]
    }
   ],
   "source": [
    "list7=[11,12,13,14,15,16,17,18,19,20]\n",
    "print(list7[0:5]);"
   ]
  },
  {
   "cell_type": "code",
   "execution_count": null,
   "id": "5bc45501",
   "metadata": {},
   "outputs": [],
   "source": [
    "# step size num [start :end: stepsize]"
   ]
  },
  {
   "cell_type": "code",
   "execution_count": 30,
   "id": "8d105e83",
   "metadata": {},
   "outputs": [
    {
     "name": "stdout",
     "output_type": "stream",
     "text": [
      "[13, 15, 17]\n"
     ]
    }
   ],
   "source": [
    "print(list7[2:8:2]);"
   ]
  },
  {
   "cell_type": "code",
   "execution_count": 31,
   "id": "a802a329",
   "metadata": {},
   "outputs": [
    {
     "name": "stdout",
     "output_type": "stream",
     "text": [
      "[4, 7, 10]\n"
     ]
    }
   ],
   "source": [
    "list7=[1,2,3,4,5,6,7,8,9,10]\n",
    "print(list7[3:10:3]);"
   ]
  },
  {
   "cell_type": "code",
   "execution_count": 32,
   "id": "7bfc5a16",
   "metadata": {},
   "outputs": [
    {
     "name": "stdout",
     "output_type": "stream",
     "text": [
      "4\n"
     ]
    }
   ],
   "source": [
    "list8=[9,9,9,5,5,5,6,6,6,6,7,5,8,4,2,2,2];\n",
    "print(list8.count(5));"
   ]
  },
  {
   "cell_type": "code",
   "execution_count": 33,
   "id": "077877fc",
   "metadata": {},
   "outputs": [
    {
     "name": "stdout",
     "output_type": "stream",
     "text": [
      "4\n"
     ]
    }
   ],
   "source": [
    "print(list8.count(6));"
   ]
  },
  {
   "cell_type": "code",
   "execution_count": 34,
   "id": "afaa523e",
   "metadata": {},
   "outputs": [
    {
     "name": "stdout",
     "output_type": "stream",
     "text": [
      "3\n"
     ]
    }
   ],
   "source": [
    "print(list8.count(2));"
   ]
  },
  {
   "cell_type": "code",
   "execution_count": 39,
   "id": "8b534839",
   "metadata": {},
   "outputs": [
    {
     "name": "stdout",
     "output_type": "stream",
     "text": [
      "[0, 2, 4, 6, 8]\n"
     ]
    }
   ],
   "source": [
    "even=[];\n",
    "for i in range(10):\n",
    "    if (i%2==0):   \n",
    "        even.append(i);\n",
    "print(even);       "
   ]
  },
  {
   "cell_type": "code",
   "execution_count": 40,
   "id": "c1c024fb",
   "metadata": {},
   "outputs": [
    {
     "name": "stdout",
     "output_type": "stream",
     "text": [
      "[0, 2, 4, 6, 8, 10, 12, 14, 16, 18]\n"
     ]
    }
   ],
   "source": [
    "even=[];\n",
    "for i in range(20):\n",
    "    if (i%2==0):   \n",
    "        even.append(i);\n",
    "print(even);       "
   ]
  },
  {
   "cell_type": "code",
   "execution_count": 41,
   "id": "54bc647b",
   "metadata": {},
   "outputs": [
    {
     "name": "stdout",
     "output_type": "stream",
     "text": [
      "[1, 3, 5, 7, 9, 11, 13, 15, 17, 19]\n"
     ]
    }
   ],
   "source": [
    "odd=[];\n",
    "for i in range(20):\n",
    "    if (i%2==1):   \n",
    "        odd.append(i);\n",
    "print(odd);       "
   ]
  },
  {
   "cell_type": "code",
   "execution_count": 44,
   "id": "7a2a8639",
   "metadata": {},
   "outputs": [
    {
     "name": "stdout",
     "output_type": "stream",
     "text": [
      "[(0, 0), (1, 1), (2, 4), (3, 9), (4, 16), (5, 25)]\n"
     ]
    }
   ],
   "source": [
    "sq=[(i,i**2)for i in range(6)];\n",
    "print(sq);"
   ]
  },
  {
   "cell_type": "code",
   "execution_count": 45,
   "id": "76cad57e",
   "metadata": {},
   "outputs": [
    {
     "name": "stdout",
     "output_type": "stream",
     "text": [
      "[(0, 0), (1, 1), (2, 8), (3, 27), (4, 64), (5, 125)]\n"
     ]
    }
   ],
   "source": [
    "sq=[(i,i**3)for i in range(6)];\n",
    "print(sq);"
   ]
  },
  {
   "cell_type": "markdown",
   "id": "b55838a0",
   "metadata": {},
   "source": [
    "thank you sir"
   ]
  }
 ],
 "metadata": {
  "kernelspec": {
   "display_name": "Python 3 (ipykernel)",
   "language": "python",
   "name": "python3"
  },
  "language_info": {
   "codemirror_mode": {
    "name": "ipython",
    "version": 3
   },
   "file_extension": ".py",
   "mimetype": "text/x-python",
   "name": "python",
   "nbconvert_exporter": "python",
   "pygments_lexer": "ipython3",
   "version": "3.9.12"
  }
 },
 "nbformat": 4,
 "nbformat_minor": 5
}
