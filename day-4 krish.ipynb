{
 "cells": [
  {
   "cell_type": "code",
   "execution_count": 1,
   "id": "7e7afd07",
   "metadata": {},
   "outputs": [
    {
     "name": "stdout",
     "output_type": "stream",
     "text": [
      "what is your name ?kishore\n",
      "Hikishore\n"
     ]
    }
   ],
   "source": [
    "name=input('what is your name ?')\n",
    "print('Hi' + name)"
   ]
  },
  {
   "cell_type": "code",
   "execution_count": 1,
   "id": "e077b927",
   "metadata": {},
   "outputs": [
    {
     "name": "stdout",
     "output_type": "stream",
     "text": [
      "what is your name ?kishore\n",
      "what is your favorete colour?red\n",
      "kishorelikesred\n"
     ]
    }
   ],
   "source": [
    "name=input('what is your name ?')\n",
    "colour=input('what is your favorete colour?')\n",
    "print(name  + 'likes' + colour)"
   ]
  },
  {
   "cell_type": "code",
   "execution_count": 2,
   "id": "f1926370",
   "metadata": {},
   "outputs": [
    {
     "name": "stdout",
     "output_type": "stream",
     "text": [
      "what is your name ?raju\n",
      "what is your favorete colour?blue\n",
      "raju  likes  blue\n"
     ]
    }
   ],
   "source": [
    "name=input('what is your name ?')\n",
    "colour=input('what is your favorete colour?')\n",
    "print(name  + '  likes  ' + colour)"
   ]
  },
  {
   "cell_type": "code",
   "execution_count": 4,
   "id": "f81dc1c8",
   "metadata": {},
   "outputs": [
    {
     "name": "stdout",
     "output_type": "stream",
     "text": [
      "Birth Year: 1998\n",
      "24\n"
     ]
    }
   ],
   "source": [
    "birth_year =input('Birth Year: ')\n",
    "age=2022-int(birth_year)\n",
    "print(age)"
   ]
  },
  {
   "cell_type": "code",
   "execution_count": 5,
   "id": "511ea5b5",
   "metadata": {},
   "outputs": [
    {
     "name": "stdout",
     "output_type": "stream",
     "text": [
      "python for machine learning\n"
     ]
    }
   ],
   "source": [
    "course ='python for machine learning'\n",
    "print(course[:])"
   ]
  },
  {
   "cell_type": "code",
   "execution_count": 6,
   "id": "638a7dbb",
   "metadata": {},
   "outputs": [
    {
     "name": "stdout",
     "output_type": "stream",
     "text": [
      "python\n"
     ]
    }
   ],
   "source": [
    "course ='python for machine learning'\n",
    "print(course[0:6])"
   ]
  },
  {
   "cell_type": "code",
   "execution_count": 7,
   "id": "5386beda",
   "metadata": {},
   "outputs": [
    {
     "name": "stdout",
     "output_type": "stream",
     "text": [
      "pytho\n"
     ]
    }
   ],
   "source": [
    "course ='python for machine learning'\n",
    "print(course[0:5])"
   ]
  },
  {
   "cell_type": "code",
   "execution_count": 8,
   "id": "b5351c60",
   "metadata": {},
   "outputs": [
    {
     "name": "stdout",
     "output_type": "stream",
     "text": [
      "p\n"
     ]
    }
   ],
   "source": [
    "course ='python for machine learning'\n",
    "print(course[0])"
   ]
  },
  {
   "cell_type": "code",
   "execution_count": 9,
   "id": "a7e4f344",
   "metadata": {},
   "outputs": [
    {
     "name": "stdout",
     "output_type": "stream",
     "text": [
      "y\n"
     ]
    }
   ],
   "source": [
    "course ='python for machine learning'\n",
    "print(course[1])"
   ]
  },
  {
   "cell_type": "code",
   "execution_count": 10,
   "id": "c239d7e7",
   "metadata": {
    "scrolled": true
   },
   "outputs": [
    {
     "name": "stdout",
     "output_type": "stream",
     "text": [
      "n\n"
     ]
    }
   ],
   "source": [
    "course ='python for machine learning'\n",
    "print(course[-2])"
   ]
  },
  {
   "cell_type": "code",
   "execution_count": 12,
   "id": "18fe64bf",
   "metadata": {},
   "outputs": [
    {
     "name": "stdout",
     "output_type": "stream",
     "text": [
      "ython for machine learni\n"
     ]
    }
   ],
   "source": [
    "course ='python for machine learning'\n",
    "print(course[1:-2])"
   ]
  },
  {
   "cell_type": "code",
   "execution_count": 13,
   "id": "897fdad2",
   "metadata": {},
   "outputs": [
    {
     "name": "stdout",
     "output_type": "stream",
     "text": [
      "hon for machine le\n"
     ]
    }
   ],
   "source": [
    "course ='python for machine learning'\n",
    "print(course[3:-6])"
   ]
  },
  {
   "cell_type": "code",
   "execution_count": 2,
   "id": "9de29657",
   "metadata": {},
   "outputs": [
    {
     "name": "stdout",
     "output_type": "stream",
     "text": [
      "kishore [ krish]  is good coder \n"
     ]
    }
   ],
   "source": [
    "first = 'kishore'\n",
    "last = 'krish'\n",
    "message = first + ' [ '+last+']  is good coder '\n",
    "print(message)"
   ]
  },
  {
   "cell_type": "code",
   "execution_count": 3,
   "id": "88d35cd3",
   "metadata": {},
   "outputs": [
    {
     "name": "stdout",
     "output_type": "stream",
     "text": [
      "11\n"
     ]
    }
   ],
   "source": [
    "course ='python for machine learning'\n",
    "print(course.find('m'))"
   ]
  },
  {
   "cell_type": "code",
   "execution_count": 4,
   "id": "12d360a5",
   "metadata": {},
   "outputs": [
    {
     "name": "stdout",
     "output_type": "stream",
     "text": [
      "3\n"
     ]
    }
   ],
   "source": [
    "course ='python for machine learning'\n",
    "print(course.find('h'))"
   ]
  },
  {
   "cell_type": "code",
   "execution_count": 5,
   "id": "dc63760b",
   "metadata": {},
   "outputs": [
    {
     "name": "stdout",
     "output_type": "stream",
     "text": [
      "13\n"
     ]
    }
   ],
   "source": [
    "course ='python for machine learning'\n",
    "print(course.find('c'))"
   ]
  },
  {
   "cell_type": "code",
   "execution_count": 6,
   "id": "613cf237",
   "metadata": {},
   "outputs": [
    {
     "name": "stdout",
     "output_type": "stream",
     "text": [
      "python for Advanced learning\n"
     ]
    }
   ],
   "source": [
    "course ='python for machine learning'\n",
    "print(course.replace('machine', 'Advanced'))"
   ]
  },
  {
   "cell_type": "code",
   "execution_count": 9,
   "id": "a1d61054",
   "metadata": {},
   "outputs": [
    {
     "name": "stdout",
     "output_type": "stream",
     "text": [
      "PYTHON FOR MACHINE LEARNING\n",
      "python for machine learning\n",
      "Python For Machine Learning\n"
     ]
    }
   ],
   "source": [
    "course ='python for machine learning'\n",
    "#print(course.replace())\n",
    "print(course.upper())\n",
    "print(course.lower())\n",
    "print(course.title())"
   ]
  },
  {
   "cell_type": "code",
   "execution_count": 10,
   "id": "387c1a59",
   "metadata": {},
   "outputs": [
    {
     "name": "stdout",
     "output_type": "stream",
     "text": [
      "python for advanced learning program\n",
      "PYTHON FOR MACHINE LEARNING\n",
      "python for machine learning\n",
      "Python For Machine Learning\n"
     ]
    }
   ],
   "source": [
    "course ='python for machine learning'\n",
    "print(course.replace('machine learning','advanced learning program'))\n",
    "print(course.upper())\n",
    "print(course.lower())\n",
    "print(course.title())"
   ]
  },
  {
   "cell_type": "code",
   "execution_count": 11,
   "id": "a69be449",
   "metadata": {},
   "outputs": [
    {
     "name": "stdout",
     "output_type": "stream",
     "text": [
      "Enter A: 654\n",
      "Enter B: 50\n",
      " sum :  704\n"
     ]
    }
   ],
   "source": [
    "a = int (input(\"Enter A: \"))\n",
    "b = int (input(\"Enter B: \"))\n",
    "c = a+b\n",
    "print(\" sum : \" , c)"
   ]
  },
  {
   "cell_type": "code",
   "execution_count": 12,
   "id": "31f2a96c",
   "metadata": {},
   "outputs": [
    {
     "name": "stdout",
     "output_type": "stream",
     "text": [
      "Enter A: 65\n",
      "Enter B: 35\n",
      " sum :  100\n"
     ]
    }
   ],
   "source": [
    "a = int (input(\"Enter A: \"))\n",
    "b = int (input(\"Enter B: \"))\n",
    "c = a+b\n",
    "print(\" sum : \" , c)"
   ]
  },
  {
   "cell_type": "code",
   "execution_count": 13,
   "id": "981d60a6",
   "metadata": {},
   "outputs": [
    {
     "name": "stdout",
     "output_type": "stream",
     "text": [
      "Enter A: 67\n",
      "Enter B: 76\n",
      "Enter c: 43\n",
      " Greater Number  =  76\n"
     ]
    }
   ],
   "source": [
    "a = int (input(\"Enter A: \"))\n",
    "b = int (input(\"Enter B: \"))\n",
    "c = int (input(\"Enter c: \"))\n",
    "if a>b:\n",
    "    if a>c:\n",
    "        g=a\n",
    "    else:\n",
    "        g=c\n",
    "else:\n",
    "    if b>c:\n",
    "        g=b\n",
    "    else:\n",
    "        g=c\n",
    "print(\" Greater Number  = \" , g)"
   ]
  },
  {
   "cell_type": "code",
   "execution_count": 14,
   "id": "ff3064b0",
   "metadata": {},
   "outputs": [
    {
     "name": "stdout",
     "output_type": "stream",
     "text": [
      "Enter A: 676\n",
      "Enter B: 789\n",
      "Enter c: 987\n",
      " Greater Number  =  987\n"
     ]
    }
   ],
   "source": [
    "a = int (input(\"Enter A: \"))\n",
    "b = int (input(\"Enter B: \"))\n",
    "c = int (input(\"Enter c: \"))\n",
    "if a>b:\n",
    "    if a>c:\n",
    "        g=a\n",
    "    else:\n",
    "        g=c\n",
    "else:\n",
    "    if b>c:\n",
    "        g=b\n",
    "    else:\n",
    "        g=c\n",
    "print(\" Greater Number  = \" , g)"
   ]
  },
  {
   "cell_type": "markdown",
   "id": "c1b3878e",
   "metadata": {},
   "source": [
    "# thank you sir this is day-4 first section"
   ]
  }
 ],
 "metadata": {
  "kernelspec": {
   "display_name": "Python 3.10.5 64-bit",
   "language": "python",
   "name": "python3"
  },
  "language_info": {
   "codemirror_mode": {
    "name": "ipython",
    "version": 3
   },
   "file_extension": ".py",
   "mimetype": "text/x-python",
   "name": "python",
   "nbconvert_exporter": "python",
   "pygments_lexer": "ipython3",
   "version": "3.10.5"
  },
  "vscode": {
   "interpreter": {
    "hash": "cda64ff3797c5025fff60051808155d60beba98347186c4cb984199185739ed2"
   }
  }
 },
 "nbformat": 4,
 "nbformat_minor": 5
}
