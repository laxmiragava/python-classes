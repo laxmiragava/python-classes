{
 "cells": [
  {
   "cell_type": "code",
   "execution_count": 10,
   "id": "d4cfa955",
   "metadata": {},
   "outputs": [
    {
     "name": "stdout",
     "output_type": "stream",
     "text": [
      " Enter quadratic equation : ax^2+bx+c  \n",
      " Enter the value of a :  1\n",
      " Enter the value of b :  2\n",
      " Enter the value of c :  5\n",
      "ROOT ARE IMAGINARY\n",
      "THE FIRST ROOT VALUE :   (-1.0, '+i', (2.4492935982947064e-16+4j))\n",
      "THE SECOND ROOT VALUE :   (-1.0, '-i', (2.4492935982947064e-16+4j))\n"
     ]
    }
   ],
   "source": [
    "print (\" Enter quadratic equation : ax^2+bx+c  \")\n",
    "a = int(input( \" Enter the value of a :  \"))\n",
    "b = int(input( \" Enter the value of b :  \"))\n",
    "c = int(input( \" Enter the value of c :  \"))\n",
    "d = b*b-4*a*c\n",
    "d1=d**0.5\n",
    "\n",
    "if d > 0 :\n",
    "    print(\"ROOT ARE UNEQAL AND REAL\")\n",
    "    r1=((-b+d1)/2*a)\n",
    "    r2=((-b-d1)/2*a)\n",
    "    print(\"THE FIRST ROOT VALUE :  \",round(r1,2))\n",
    "    print(\"THE SECOND ROOT VALUE :  \",round(r2,2))\n",
    "elif d == 0 :\n",
    "          print(\"ROOT ARE EQAL AND REAL\")\n",
    "          r1=((-b+d1)/2*a)\n",
    "          r2=((-b-d1)/2*a)  \n",
    "          print(\"THE FIRST ROOT VALUE :  \",round(r1,2))\n",
    "          print(\"THE SECOND ROOT VALUE :  \",round(r2,2))\n",
    "else:\n",
    "    print(\"ROOT ARE IMAGINARY\")\n",
    "    r1 =(-b/(2*a),\"+i\",d1)\n",
    "    r2 =(-b/(2*a),\"-i\",d1)\n",
    "    print(\"THE FIRST ROOT VALUE :  \",r1)\n",
    "    print(\"THE SECOND ROOT VALUE :  \",r2)\n",
    "          \n",
    "          "
   ]
  },
  {
   "cell_type": "code",
   "execution_count": null,
   "id": "25023aa7",
   "metadata": {},
   "outputs": [],
   "source": []
  }
 ],
 "metadata": {
  "kernelspec": {
   "display_name": "Python 3 (ipykernel)",
   "language": "python",
   "name": "python3"
  },
  "language_info": {
   "codemirror_mode": {
    "name": "ipython",
    "version": 3
   },
   "file_extension": ".py",
   "mimetype": "text/x-python",
   "name": "python",
   "nbconvert_exporter": "python",
   "pygments_lexer": "ipython3",
   "version": "3.9.12"
  }
 },
 "nbformat": 4,
 "nbformat_minor": 5
}
