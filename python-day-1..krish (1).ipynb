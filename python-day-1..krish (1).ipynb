{
 "cells": [
  {
   "cell_type": "markdown",
   "id": "df443a4b",
   "metadata": {},
   "source": [
    "# THIS IS MY FIRST PYTHON CLASS"
   ]
  },
  {
   "cell_type": "markdown",
   "id": "849990c3",
   "metadata": {},
   "source": [
    "HAI PYTHON AND ANCONDA \n",
    "THIS IS KRISH"
   ]
  },
  {
   "cell_type": "code",
   "execution_count": 1,
   "id": "6693190d",
   "metadata": {},
   "outputs": [
    {
     "name": "stdout",
     "output_type": "stream",
     "text": [
      "THIS IS MY DAY-1 CLASS OF PYTHON\n"
     ]
    }
   ],
   "source": [
    "print(\"THIS IS MY DAY-1 CLASS OF PYTHON\")"
   ]
  },
  {
   "cell_type": "code",
   "execution_count": 2,
   "id": "f7a6bcc6",
   "metadata": {},
   "outputs": [
    {
     "name": "stdout",
     "output_type": "stream",
     "text": [
      "hello krish\n"
     ]
    }
   ],
   "source": [
    "print(\"hello krish\")"
   ]
  },
  {
   "cell_type": "code",
   "execution_count": 3,
   "id": "5c75902c",
   "metadata": {},
   "outputs": [
    {
     "name": "stdout",
     "output_type": "stream",
     "text": [
      "hai my internship team members\n"
     ]
    }
   ],
   "source": [
    "print(\"hai my internship team members\")"
   ]
  },
  {
   "cell_type": "markdown",
   "id": "c8f3cc4e",
   "metadata": {},
   "source": [
    "THIS IS DAY-1 PRACTICE FOR PYTHON PROGRAM USING NUMBER SYSTEM"
   ]
  },
  {
   "cell_type": "code",
   "execution_count": 4,
   "id": "2bf6a74c",
   "metadata": {},
   "outputs": [
    {
     "data": {
      "text/plain": [
       "int"
      ]
     },
     "execution_count": 4,
     "metadata": {},
     "output_type": "execute_result"
    }
   ],
   "source": [
    "type(4)"
   ]
  },
  {
   "cell_type": "code",
   "execution_count": 5,
   "id": "1f6c9812",
   "metadata": {},
   "outputs": [
    {
     "data": {
      "text/plain": [
       "float"
      ]
     },
     "execution_count": 5,
     "metadata": {},
     "output_type": "execute_result"
    }
   ],
   "source": [
    "type(3.5)"
   ]
  },
  {
   "cell_type": "code",
   "execution_count": 6,
   "id": "3718567e",
   "metadata": {},
   "outputs": [
    {
     "data": {
      "text/plain": [
       "int"
      ]
     },
     "execution_count": 6,
     "metadata": {},
     "output_type": "execute_result"
    }
   ],
   "source": [
    "type(-5)"
   ]
  },
  {
   "cell_type": "code",
   "execution_count": 7,
   "id": "37f74206",
   "metadata": {},
   "outputs": [
    {
     "data": {
      "text/plain": [
       "float"
      ]
     },
     "execution_count": 7,
     "metadata": {},
     "output_type": "execute_result"
    }
   ],
   "source": [
    "type(6.7)"
   ]
  },
  {
   "cell_type": "code",
   "execution_count": 8,
   "id": "3f301bf4",
   "metadata": {},
   "outputs": [
    {
     "data": {
      "text/plain": [
       "float"
      ]
     },
     "execution_count": 8,
     "metadata": {},
     "output_type": "execute_result"
    }
   ],
   "source": [
    "type(-9.4)"
   ]
  },
  {
   "cell_type": "code",
   "execution_count": 9,
   "id": "40b0db71",
   "metadata": {},
   "outputs": [
    {
     "data": {
      "text/plain": [
       "13"
      ]
     },
     "execution_count": 9,
     "metadata": {},
     "output_type": "execute_result"
    }
   ],
   "source": [
    "# ADDITION OPERETION\n",
    "6+7"
   ]
  },
  {
   "cell_type": "code",
   "execution_count": 10,
   "id": "d45eb579",
   "metadata": {},
   "outputs": [
    {
     "data": {
      "text/plain": [
       "24"
      ]
     },
     "execution_count": 10,
     "metadata": {},
     "output_type": "execute_result"
    }
   ],
   "source": [
    "8+9+7"
   ]
  },
  {
   "cell_type": "code",
   "execution_count": 11,
   "id": "3a72867d",
   "metadata": {},
   "outputs": [
    {
     "data": {
      "text/plain": [
       "280"
      ]
     },
     "execution_count": 11,
     "metadata": {},
     "output_type": "execute_result"
    }
   ],
   "source": [
    "7+6+12+3+4+7+99+87+55"
   ]
  },
  {
   "cell_type": "code",
   "execution_count": 12,
   "id": "bfe30a23",
   "metadata": {},
   "outputs": [
    {
     "data": {
      "text/plain": [
       "112.69999999999999"
      ]
     },
     "execution_count": 12,
     "metadata": {},
     "output_type": "execute_result"
    }
   ],
   "source": [
    "12.5+15.8+6.8+77.6"
   ]
  },
  {
   "cell_type": "code",
   "execution_count": 13,
   "id": "fce652d4",
   "metadata": {},
   "outputs": [
    {
     "data": {
      "text/plain": [
       "16.101010000000002"
      ]
     },
     "execution_count": 13,
     "metadata": {},
     "output_type": "execute_result"
    }
   ],
   "source": [
    "5.020202+7.030303+4.050505"
   ]
  },
  {
   "cell_type": "code",
   "execution_count": 14,
   "id": "2c1346bf",
   "metadata": {},
   "outputs": [
    {
     "data": {
      "text/plain": [
       "6"
      ]
     },
     "execution_count": 14,
     "metadata": {},
     "output_type": "execute_result"
    }
   ],
   "source": [
    "# SUBTRACTION OPERATION\n",
    "11-5"
   ]
  },
  {
   "cell_type": "code",
   "execution_count": 15,
   "id": "8bcbba41",
   "metadata": {},
   "outputs": [
    {
     "data": {
      "text/plain": [
       "4"
      ]
     },
     "execution_count": 15,
     "metadata": {},
     "output_type": "execute_result"
    }
   ],
   "source": [
    "9-5"
   ]
  },
  {
   "cell_type": "code",
   "execution_count": 16,
   "id": "4e7d9850",
   "metadata": {},
   "outputs": [
    {
     "data": {
      "text/plain": [
       "6"
      ]
     },
     "execution_count": 16,
     "metadata": {},
     "output_type": "execute_result"
    }
   ],
   "source": [
    "15-9"
   ]
  },
  {
   "cell_type": "code",
   "execution_count": 17,
   "id": "706b0ffa",
   "metadata": {},
   "outputs": [
    {
     "data": {
      "text/plain": [
       "-11"
      ]
     },
     "execution_count": 17,
     "metadata": {},
     "output_type": "execute_result"
    }
   ],
   "source": [
    "20-31"
   ]
  },
  {
   "cell_type": "code",
   "execution_count": 18,
   "id": "3c4e57ef",
   "metadata": {},
   "outputs": [
    {
     "data": {
      "text/plain": [
       "-7"
      ]
     },
     "execution_count": 18,
     "metadata": {},
     "output_type": "execute_result"
    }
   ],
   "source": [
    "9-16"
   ]
  },
  {
   "cell_type": "code",
   "execution_count": 19,
   "id": "4978f0ba",
   "metadata": {},
   "outputs": [
    {
     "data": {
      "text/plain": [
       "-6"
      ]
     },
     "execution_count": 19,
     "metadata": {},
     "output_type": "execute_result"
    }
   ],
   "source": [
    "7-13"
   ]
  },
  {
   "cell_type": "code",
   "execution_count": 20,
   "id": "f1b6f196",
   "metadata": {},
   "outputs": [
    {
     "data": {
      "text/plain": [
       "-48"
      ]
     },
     "execution_count": 20,
     "metadata": {},
     "output_type": "execute_result"
    }
   ],
   "source": [
    "89+129-150-123+7"
   ]
  },
  {
   "cell_type": "code",
   "execution_count": 21,
   "id": "9f383725",
   "metadata": {},
   "outputs": [
    {
     "data": {
      "text/plain": [
       "-189"
      ]
     },
     "execution_count": 21,
     "metadata": {},
     "output_type": "execute_result"
    }
   ],
   "source": [
    "253-322+520-640"
   ]
  },
  {
   "cell_type": "code",
   "execution_count": 22,
   "id": "8bc93471",
   "metadata": {},
   "outputs": [
    {
     "data": {
      "text/plain": [
       "47.03"
      ]
     },
     "execution_count": 22,
     "metadata": {},
     "output_type": "execute_result"
    }
   ],
   "source": [
    "54.7-32.5+89.6-64.77"
   ]
  },
  {
   "cell_type": "code",
   "execution_count": 23,
   "id": "9ede8489",
   "metadata": {},
   "outputs": [
    {
     "data": {
      "text/plain": [
       "63"
      ]
     },
     "execution_count": 23,
     "metadata": {},
     "output_type": "execute_result"
    }
   ],
   "source": [
    "# MULTIPLECATION OPERATION(*)\n",
    "7*9"
   ]
  },
  {
   "cell_type": "code",
   "execution_count": 24,
   "id": "e41b28c0",
   "metadata": {},
   "outputs": [
    {
     "data": {
      "text/plain": [
       "1874.8799999999999"
      ]
     },
     "execution_count": 24,
     "metadata": {},
     "output_type": "execute_result"
    }
   ],
   "source": [
    "11.2*12.4*13.5"
   ]
  },
  {
   "cell_type": "code",
   "execution_count": 25,
   "id": "429af90a",
   "metadata": {},
   "outputs": [
    {
     "data": {
      "text/plain": [
       "6.6"
      ]
     },
     "execution_count": 25,
     "metadata": {},
     "output_type": "execute_result"
    }
   ],
   "source": [
    "-5.5*-1.2"
   ]
  },
  {
   "cell_type": "code",
   "execution_count": 26,
   "id": "acfa4958",
   "metadata": {},
   "outputs": [
    {
     "data": {
      "text/plain": [
       "-51.0"
      ]
     },
     "execution_count": 26,
     "metadata": {},
     "output_type": "execute_result"
    }
   ],
   "source": [
    "-8.5*6"
   ]
  },
  {
   "cell_type": "code",
   "execution_count": 27,
   "id": "f3ca86b6",
   "metadata": {},
   "outputs": [
    {
     "data": {
      "text/plain": [
       "9"
      ]
     },
     "execution_count": 27,
     "metadata": {},
     "output_type": "execute_result"
    }
   ],
   "source": [
    "# POWER OPERATION(**)\n",
    "3**2"
   ]
  },
  {
   "cell_type": "code",
   "execution_count": 28,
   "id": "177f9d4a",
   "metadata": {},
   "outputs": [
    {
     "data": {
      "text/plain": [
       "25"
      ]
     },
     "execution_count": 28,
     "metadata": {},
     "output_type": "execute_result"
    }
   ],
   "source": [
    "5**2"
   ]
  },
  {
   "cell_type": "code",
   "execution_count": 29,
   "id": "079a290d",
   "metadata": {},
   "outputs": [
    {
     "data": {
      "text/plain": [
       "625"
      ]
     },
     "execution_count": 29,
     "metadata": {},
     "output_type": "execute_result"
    }
   ],
   "source": [
    "25**2"
   ]
  },
  {
   "cell_type": "code",
   "execution_count": 30,
   "id": "02db8f49",
   "metadata": {},
   "outputs": [
    {
     "data": {
      "text/plain": [
       "8"
      ]
     },
     "execution_count": 30,
     "metadata": {},
     "output_type": "execute_result"
    }
   ],
   "source": [
    "2**3"
   ]
  },
  {
   "cell_type": "code",
   "execution_count": 31,
   "id": "5355eca0",
   "metadata": {},
   "outputs": [
    {
     "data": {
      "text/plain": [
       "-8"
      ]
     },
     "execution_count": 31,
     "metadata": {},
     "output_type": "execute_result"
    }
   ],
   "source": [
    "-2**3"
   ]
  },
  {
   "cell_type": "code",
   "execution_count": 32,
   "id": "45592dc0",
   "metadata": {},
   "outputs": [
    {
     "data": {
      "text/plain": [
       "3125"
      ]
     },
     "execution_count": 32,
     "metadata": {},
     "output_type": "execute_result"
    }
   ],
   "source": [
    "5**5"
   ]
  },
  {
   "cell_type": "code",
   "execution_count": 33,
   "id": "179fffe9",
   "metadata": {},
   "outputs": [
    {
     "data": {
      "text/plain": [
       "6.25"
      ]
     },
     "execution_count": 33,
     "metadata": {},
     "output_type": "execute_result"
    }
   ],
   "source": [
    "2.5**2"
   ]
  },
  {
   "cell_type": "code",
   "execution_count": 34,
   "id": "8d84c1fb",
   "metadata": {},
   "outputs": [
    {
     "data": {
      "text/plain": [
       "42.25"
      ]
     },
     "execution_count": 34,
     "metadata": {},
     "output_type": "execute_result"
    }
   ],
   "source": [
    "6.5**2"
   ]
  },
  {
   "cell_type": "code",
   "execution_count": 35,
   "id": "e7371bc3",
   "metadata": {},
   "outputs": [
    {
     "data": {
      "text/plain": [
       "-12.166999999999998"
      ]
     },
     "execution_count": 35,
     "metadata": {},
     "output_type": "execute_result"
    }
   ],
   "source": [
    "-2.3**3"
   ]
  },
  {
   "cell_type": "code",
   "execution_count": 36,
   "id": "a4bcad65",
   "metadata": {},
   "outputs": [
    {
     "data": {
      "text/plain": [
       "0.75"
      ]
     },
     "execution_count": 36,
     "metadata": {},
     "output_type": "execute_result"
    }
   ],
   "source": [
    "# DIVIDE OPERATION (/)\n",
    "3/4"
   ]
  },
  {
   "cell_type": "code",
   "execution_count": 37,
   "id": "c0a6c514",
   "metadata": {},
   "outputs": [
    {
     "data": {
      "text/plain": [
       "2.5"
      ]
     },
     "execution_count": 37,
     "metadata": {},
     "output_type": "execute_result"
    }
   ],
   "source": [
    "5/2"
   ]
  },
  {
   "cell_type": "code",
   "execution_count": 38,
   "id": "cf960f17",
   "metadata": {},
   "outputs": [
    {
     "data": {
      "text/plain": [
       "-0.8333333333333334"
      ]
     },
     "execution_count": 38,
     "metadata": {},
     "output_type": "execute_result"
    }
   ],
   "source": [
    "-5/6"
   ]
  },
  {
   "cell_type": "code",
   "execution_count": 39,
   "id": "7bb518b4",
   "metadata": {},
   "outputs": [
    {
     "data": {
      "text/plain": [
       "-3.5"
      ]
     },
     "execution_count": 39,
     "metadata": {},
     "output_type": "execute_result"
    }
   ],
   "source": [
    "-7/2"
   ]
  },
  {
   "cell_type": "code",
   "execution_count": 40,
   "id": "d1632655",
   "metadata": {},
   "outputs": [
    {
     "data": {
      "text/plain": [
       "-1.6666666666666667"
      ]
     },
     "execution_count": 40,
     "metadata": {},
     "output_type": "execute_result"
    }
   ],
   "source": [
    "-5/3"
   ]
  },
  {
   "cell_type": "code",
   "execution_count": 41,
   "id": "7338d2a0",
   "metadata": {},
   "outputs": [
    {
     "data": {
      "text/plain": [
       "1"
      ]
     },
     "execution_count": 41,
     "metadata": {},
     "output_type": "execute_result"
    }
   ],
   "source": [
    "# DEVIDES OPERATION (%)(THIS MEANS REMAINDER ONLY)\n",
    "5%2"
   ]
  },
  {
   "cell_type": "code",
   "execution_count": 42,
   "id": "899b8f33",
   "metadata": {},
   "outputs": [
    {
     "data": {
      "text/plain": [
       "1"
      ]
     },
     "execution_count": 42,
     "metadata": {},
     "output_type": "execute_result"
    }
   ],
   "source": [
    "78956%5"
   ]
  },
  {
   "cell_type": "code",
   "execution_count": 43,
   "id": "3c7442fa",
   "metadata": {},
   "outputs": [
    {
     "data": {
      "text/plain": [
       "3"
      ]
     },
     "execution_count": 43,
     "metadata": {},
     "output_type": "execute_result"
    }
   ],
   "source": [
    "-6765%4"
   ]
  },
  {
   "cell_type": "code",
   "execution_count": 44,
   "id": "4439b0f9",
   "metadata": {},
   "outputs": [
    {
     "data": {
      "text/plain": [
       "2.675"
      ]
     },
     "execution_count": 44,
     "metadata": {},
     "output_type": "execute_result"
    }
   ],
   "source": [
    "-6.325%3"
   ]
  },
  {
   "cell_type": "markdown",
   "id": "1cbc2a5a",
   "metadata": {},
   "source": [
    "CALCULATE ALL ABOVE OPERATION IN SINGLE PROBLEM"
   ]
  },
  {
   "cell_type": "code",
   "execution_count": 45,
   "id": "401b808e",
   "metadata": {},
   "outputs": [
    {
     "data": {
      "text/plain": [
       "33.5"
      ]
     },
     "execution_count": 45,
     "metadata": {},
     "output_type": "execute_result"
    }
   ],
   "source": [
    "7+8-66/4+8%7**2+9*3"
   ]
  },
  {
   "cell_type": "code",
   "execution_count": 46,
   "id": "5750c575",
   "metadata": {},
   "outputs": [
    {
     "data": {
      "text/plain": [
       "101.4"
      ]
     },
     "execution_count": 46,
     "metadata": {},
     "output_type": "execute_result"
    }
   ],
   "source": [
    "32.7+56.8-33.3/3+9%8**2+7*2"
   ]
  },
  {
   "cell_type": "code",
   "execution_count": 47,
   "id": "474b3b9a",
   "metadata": {},
   "outputs": [
    {
     "data": {
      "text/plain": [
       "-32.91"
      ]
     },
     "execution_count": 47,
     "metadata": {},
     "output_type": "execute_result"
    }
   ],
   "source": [
    "25.88-56.79-5**4/5%2*2"
   ]
  },
  {
   "cell_type": "code",
   "execution_count": 48,
   "id": "6da1b65f",
   "metadata": {},
   "outputs": [
    {
     "name": "stdout",
     "output_type": "stream",
     "text": [
      "SEE ALL MY ABOVE MATHAMITICAL OPERATION \n"
     ]
    }
   ],
   "source": [
    "print(\"SEE ALL MY ABOVE MATHAMITICAL OPERATION \")"
   ]
  },
  {
   "cell_type": "code",
   "execution_count": 49,
   "id": "49f69d95",
   "metadata": {},
   "outputs": [
    {
     "name": "stdout",
     "output_type": "stream",
     "text": [
      "PLESE CHECK IT SIR\n"
     ]
    }
   ],
   "source": [
    "print (\"PLESE CHECK IT SIR\")"
   ]
  },
  {
   "cell_type": "code",
   "execution_count": 51,
   "id": "37a8d965",
   "metadata": {},
   "outputs": [
    {
     "name": "stdout",
     "output_type": "stream",
     "text": [
      "THANK YOU SIR\n"
     ]
    }
   ],
   "source": [
    "print(\"THANK YOU SIR\")"
   ]
  },
  {
   "cell_type": "code",
   "execution_count": null,
   "id": "e938ce13",
   "metadata": {},
   "outputs": [],
   "source": []
  }
 ],
 "metadata": {
  "kernelspec": {
   "display_name": "Python 3 (ipykernel)",
   "language": "python",
   "name": "python3"
  },
  "language_info": {
   "codemirror_mode": {
    "name": "ipython",
    "version": 3
   },
   "file_extension": ".py",
   "mimetype": "text/x-python",
   "name": "python",
   "nbconvert_exporter": "python",
   "pygments_lexer": "ipython3",
   "version": "3.9.12"
  }
 },
 "nbformat": 4,
 "nbformat_minor": 5
}
