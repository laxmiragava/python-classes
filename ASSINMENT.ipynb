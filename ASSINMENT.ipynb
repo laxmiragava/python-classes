{
 "cells": [
  {
   "cell_type": "code",
   "execution_count": 3,
   "id": "8a1b6505",
   "metadata": {},
   "outputs": [
    {
     "name": "stdout",
     "output_type": "stream",
     "text": [
      "Enter first number: 546\n",
      "Enter second number: 87\n",
      "Enter third number: 98\n",
      "Enter fourth number: 987\n",
      "Enter fifth number: 897\n",
      "The largest number is  987\n"
     ]
    }
   ],
   "source": [
    "num1 = int(input(\"Enter first number: \"))\n",
    "num2 = int(input(\"Enter second number: \"))\n",
    "num3 = int(input(\"Enter third number: \"))\n",
    "num4 = int(input(\"Enter fourth number: \"))\n",
    "num5 = int(input(\"Enter fifth number: \"))\n",
    "if(num1 >= num2) and (num1 >= num3) and (num1 >= num4) and (num1 >= num5):\n",
    "   largest = num1\n",
    "if(num2 >= num1) and (num2 >= num3) and (num2 >= num4) and (num2 >= num5):\n",
    "   largest = num2\n",
    "if(num3 >= num1) and (num3 >= num2) and (num3 >= num4) and (num3 >= num5):\n",
    "   largest = num3\n",
    "elif(num4 >= num1) and (num4 >= num2) and (num4 >= num3) and (num4 >= num5): \n",
    "   largest = num4\n",
    "else:\n",
    "   largest = num5\n",
    "print(\"The largest number is \", largest)"
   ]
  },
  {
   "cell_type": "code",
   "execution_count": 4,
   "id": "7acf5768",
   "metadata": {},
   "outputs": [
    {
     "name": "stdout",
     "output_type": "stream",
     "text": [
      "Enter first number: 32\n",
      "Enter second number: 43\n",
      "Enter third number: 54\n",
      "Enter fourth number: 65\n",
      "Enter fifth number: 76\n",
      "The largest number =   76\n"
     ]
    }
   ],
   "source": [
    "num1 = int(input(\"Enter first number: \"))\n",
    "num2 = int(input(\"Enter second number: \"))\n",
    "num3 = int(input(\"Enter third number: \"))\n",
    "num4 = int(input(\"Enter fourth number: \"))\n",
    "num5 = int(input(\"Enter fifth number: \"))\n",
    "if(num1 >= num2) and (num1 >= num3) and (num1 >= num4) and (num1 >= num5):\n",
    "   largest = num1\n",
    "if(num2 >= num1) and (num2 >= num3) and (num2 >= num4) and (num2 >= num5):\n",
    "   largest = num2\n",
    "if(num3 >= num1) and (num3 >= num2) and (num3 >= num4) and (num3 >= num5):\n",
    "   largest = num3\n",
    "elif(num4 >= num1) and (num4 >= num2) and (num4 >= num3) and (num4 >= num5): \n",
    "   largest = num4\n",
    "else:\n",
    "   largest = num5\n",
    "print(\"The largest number =  \", largest)"
   ]
  },
  {
   "cell_type": "code",
   "execution_count": 5,
   "id": "920da0ea",
   "metadata": {},
   "outputs": [
    {
     "name": "stdout",
     "output_type": "stream",
     "text": [
      "Enter first number: 65\n",
      "Enter second number: 23\n",
      "Enter third number: 43\n",
      "Enter fourth number: 87\n",
      "The largest number is  87\n"
     ]
    }
   ],
   "source": [
    "num1 = int(input(\"Enter first number: \"))\n",
    "num2 = int(input(\"Enter second number: \"))\n",
    "num3 = int(input(\"Enter third number: \"))\n",
    "num4 = int(input(\"Enter fourth number: \"))\n",
    "if(num1 >= num2) and (num1 >= num3) and (num1 >= num4) :\n",
    "   largest = num1\n",
    "if(num2 >= num1) and (num2 >= num3) and (num2 >= num4) :\n",
    "   largest = num2\n",
    "elif(num3 >= num1) and (num3 >= num2) and (num3 >= num4): \n",
    "   largest = num3\n",
    "else:\n",
    "   largest = num4\n",
    "print(\"The largest number is = \", largest)"
   ]
  },
  {
   "cell_type": "code",
   "execution_count": 6,
   "id": "77cdf44d",
   "metadata": {},
   "outputs": [
    {
     "name": "stdout",
     "output_type": "stream",
     "text": [
      "Enter first number: 123\n",
      "Enter second number: 124\n",
      "Enter third number: 125\n",
      "Enter fourth number: 126\n",
      "The largest number is =  126\n"
     ]
    }
   ],
   "source": [
    "num1 = int(input(\"Enter first number: \"))\n",
    "num2 = int(input(\"Enter second number: \"))\n",
    "num3 = int(input(\"Enter third number: \"))\n",
    "num4 = int(input(\"Enter fourth number: \"))\n",
    "if(num1 >= num2) and (num1 >= num3) and (num1 >= num4) :\n",
    "   largest = num1\n",
    "if(num2 >= num1) and (num2 >= num3) and (num2 >= num4) :\n",
    "   largest = num2\n",
    "elif(num3 >= num1) and (num3 >= num2) and (num3 >= num4): \n",
    "   largest = num3\n",
    "else:\n",
    "   largest = num4\n",
    "print(\"The largest number is = \", largest)"
   ]
  },
  {
   "cell_type": "markdown",
   "id": "59bfe311",
   "metadata": {},
   "source": [
    "Emp_hour = int(input(\" Enter the your work hours: \"))\n",
    "Emp_Hr_rate = float(input(\"Enter the your pay rate: \"))\n",
    "if(Emp_hour_rate>40):\n",
    "    print(\" Your gross pay: $ \" , round(Emp_hour*Emp_Hr_rate*1.5,2))\n",
    "else:\n",
    "    print(\"Your gross pay: $ \", round(Emp_hour*Emp_Hr_rate,2 ))"
   ]
  },
  {
   "cell_type": "code",
   "execution_count": 19,
   "id": "a138fdbc",
   "metadata": {},
   "outputs": [
    {
     "name": "stdout",
     "output_type": "stream",
     "text": [
      " Enter the your work hours: 37\n",
      "Enter the your pay rate: 15.7\n",
      " Your gross pay: $  580.9\n"
     ]
    }
   ],
   "source": [
    "Emp_hour = int(input(\" Enter the your work hours: \"))\n",
    "Emp_Hr_rate = float(input(\"Enter the your pay rate: \"))\n",
    "if(Emp_hour>40): \n",
    "    print(\" Your gross pay: $ \", round(Emp_hour*Emp_Hr_rate*1.5,2 ))\n",
    "else:\n",
    "    print(\" Your gross pay: $ \", round(Emp_hour*Emp_Hr_rate,2 ))"
   ]
  },
  {
   "cell_type": "code",
   "execution_count": 20,
   "id": "5f7ad298",
   "metadata": {},
   "outputs": [
    {
     "name": "stdout",
     "output_type": "stream",
     "text": [
      " Enter the your work hours: 56\n",
      "Enter the your pay rate: 12.5\n",
      " Your gross pay: $  1050.0\n"
     ]
    }
   ],
   "source": [
    "Emp_hour = int(input(\" Enter the your work hours: \"))\n",
    "Emp_Hr_rate = float(input(\"Enter the your pay rate: \"))\n",
    "if(Emp_hour>40): \n",
    "    print(\" Your gross pay: $ \", round(Emp_hour*Emp_Hr_rate*1.5,2 ))\n",
    "else:\n",
    "    print(\" Your gross pay: $ \", round(Emp_hour*Emp_Hr_rate,2 ))"
   ]
  },
  {
   "cell_type": "code",
   "execution_count": null,
   "id": "d6aba704",
   "metadata": {},
   "outputs": [],
   "source": []
  }
 ],
 "metadata": {
  "kernelspec": {
   "display_name": "Python 3 (ipykernel)",
   "language": "python",
   "name": "python3"
  },
  "language_info": {
   "codemirror_mode": {
    "name": "ipython",
    "version": 3
   },
   "file_extension": ".py",
   "mimetype": "text/x-python",
   "name": "python",
   "nbconvert_exporter": "python",
   "pygments_lexer": "ipython3",
   "version": "3.9.12"
  }
 },
 "nbformat": 4,
 "nbformat_minor": 5
}
