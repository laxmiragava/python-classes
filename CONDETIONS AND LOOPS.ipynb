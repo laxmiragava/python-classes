{
 "cells": [
  {
   "cell_type": "code",
   "execution_count": 2,
   "id": "da643fa5",
   "metadata": {},
   "outputs": [
    {
     "name": "stdout",
     "output_type": "stream",
     "text": [
      " Enter your marks :  45\n",
      "pass this exam\n"
     ]
    }
   ],
   "source": [
    "marks = int( input(\" Enter your marks :  \"))\n",
    "if marks >= 40 :\n",
    "    print(\"pass this exam\")"
   ]
  },
  {
   "cell_type": "code",
   "execution_count": 3,
   "id": "e910eb9e",
   "metadata": {},
   "outputs": [
    {
     "name": "stdout",
     "output_type": "stream",
     "text": [
      " Enter your marks :  45\n",
      "pass this exam\n",
      "congratulation\n"
     ]
    }
   ],
   "source": [
    "marks = int( input(\" Enter your marks :  \"))\n",
    "if marks >= 40 :\n",
    "    print(\"pass this exam\")\n",
    "    print(\"congratulation\")"
   ]
  },
  {
   "cell_type": "code",
   "execution_count": 4,
   "id": "23584648",
   "metadata": {},
   "outputs": [
    {
     "name": "stdout",
     "output_type": "stream",
     "text": [
      " Enter your marks :  30\n",
      "sorry next time better lock\n"
     ]
    }
   ],
   "source": [
    "marks = int( input(\" Enter your marks :  \"))\n",
    "if marks >= 40 :\n",
    "    print(\"pass this exam\")\n",
    "    print(\"congratulation\")\n",
    "else:\n",
    "     print(\"sorry next time better lock\")"
   ]
  },
  {
   "cell_type": "code",
   "execution_count": 5,
   "id": "7cb9f136",
   "metadata": {},
   "outputs": [
    {
     "name": "stdout",
     "output_type": "stream",
     "text": [
      " Enter your marks :  55\n",
      "pass this exam\n",
      "congratulation\n"
     ]
    }
   ],
   "source": [
    "marks = int( input(\" Enter your marks :  \"))\n",
    "if marks >= 40 :\n",
    "    print(\"pass this exam\")\n",
    "    print(\"congratulation\")\n",
    "else:\n",
    "     print(\"sorry next time better lock\")"
   ]
  },
  {
   "cell_type": "code",
   "execution_count": 1,
   "id": "8d2ad5da",
   "metadata": {},
   "outputs": [
    {
     "name": "stdout",
     "output_type": "stream",
     "text": [
      " Enter the number :  0\n",
      "Given number is zero\n"
     ]
    }
   ],
   "source": [
    "num = int( input(\" Enter the number :  \"))\n",
    "if num > 0 :\n",
    "    print(\"Given number is positive\")\n",
    "elif num==0:\n",
    "     print(\"Given number is zero\")\n",
    "else:\n",
    "     print( \"Given number is negative\")"
   ]
  },
  {
   "cell_type": "code",
   "execution_count": 2,
   "id": "b17b8d13",
   "metadata": {},
   "outputs": [
    {
     "name": "stdout",
     "output_type": "stream",
     "text": [
      " Enter the number :  9\n",
      "Given number is positive\n"
     ]
    }
   ],
   "source": [
    "num = int( input(\" Enter the number :  \"))\n",
    "if num > 0 :\n",
    "    print(\"Given number is positive\")\n",
    "elif num==0:\n",
    "     print(\"Given number is zero\")\n",
    "else:\n",
    "     print( \"Given number is negative\")"
   ]
  },
  {
   "cell_type": "code",
   "execution_count": 3,
   "id": "882a05b4",
   "metadata": {},
   "outputs": [
    {
     "name": "stdout",
     "output_type": "stream",
     "text": [
      " Enter the number :  -3\n",
      "Given number is negative\n"
     ]
    }
   ],
   "source": [
    "num = int( input(\" Enter the number :  \"))\n",
    "if num > 0 :\n",
    "    print(\"Given number is positive\")\n",
    "elif num==0:\n",
    "     print(\"Given number is zero\")\n",
    "else:\n",
    "     print( \"Given number is negative\")"
   ]
  },
  {
   "cell_type": "code",
   "execution_count": 5,
   "id": "646fdb27",
   "metadata": {},
   "outputs": [
    {
     "name": "stdout",
     "output_type": "stream",
     "text": [
      " Enter the number :  7\n",
      "Given number is positive\n"
     ]
    }
   ],
   "source": [
    "num = int( input(\" Enter the number :  \"))\n",
    "if num >= 0 :\n",
    "    if num ==0 :\n",
    "        print(\"Given number is zero\")\n",
    "    else:    \n",
    "        print(\"Given number is positive\")     \n",
    "else:\n",
    "     print( \"Given number is negative\")"
   ]
  },
  {
   "cell_type": "code",
   "execution_count": 6,
   "id": "5585723b",
   "metadata": {},
   "outputs": [
    {
     "name": "stdout",
     "output_type": "stream",
     "text": [
      " Enter the number :  0\n",
      "Given number is zero\n"
     ]
    }
   ],
   "source": [
    "num = int( input(\" Enter the number :  \"))\n",
    "if num >= 0 :\n",
    "    if num ==0 :\n",
    "        print(\"Given number is zero\")\n",
    "    else:    \n",
    "        print(\"Given number is positive\")     \n",
    "else:\n",
    "     print( \"Given number is negative\")"
   ]
  },
  {
   "cell_type": "code",
   "execution_count": 7,
   "id": "557dde04",
   "metadata": {},
   "outputs": [
    {
     "name": "stdout",
     "output_type": "stream",
     "text": [
      " Enter the number :  -6\n",
      "Given number is negative\n"
     ]
    }
   ],
   "source": [
    "num = int( input(\" Enter the number :  \"))\n",
    "if num >= 0 :\n",
    "    if num ==0 :\n",
    "        print(\"Given number is zero\")\n",
    "    else:    \n",
    "        print(\"Given number is positive\")     \n",
    "else:\n",
    "     print( \"Given number is negative\")"
   ]
  },
  {
   "cell_type": "markdown",
   "id": "a266e93c",
   "metadata": {},
   "source": [
    "num = [9,8,7,6,5,4,3,2,1]\n",
    "sum - 0\n",
    "  for val in num :\n",
    "  sum = sum+val\n",
    "  print(\"the sum is:  \",sum)\n"
   ]
  },
  {
   "cell_type": "code",
   "execution_count": 9,
   "id": "2b4e19cc",
   "metadata": {},
   "outputs": [
    {
     "name": "stdout",
     "output_type": "stream",
     "text": [
      "the sum is:   9\n",
      "the sum is:   17\n",
      "the sum is:   24\n",
      "the sum is:   30\n",
      "the sum is:   35\n",
      "the sum is:   39\n",
      "the sum is:   42\n",
      "the sum is:   44\n",
      "the sum is:   45\n"
     ]
    }
   ],
   "source": [
    "num = [9,8,7,6,5,4,3,2,1]\n",
    "sum = 0\n",
    "for val in num :\n",
    "    sum = sum+val\n",
    "    print(\"the sum is:  \",sum)"
   ]
  },
  {
   "cell_type": "code",
   "execution_count": 19,
   "id": "e016297c",
   "metadata": {},
   "outputs": [
    {
     "name": "stdout",
     "output_type": "stream",
     "text": [
      "the sum is:   9\n",
      "the sum is:   17\n",
      "the sum is:   24\n",
      "the sum is:   30\n",
      "the sum is:   35\n",
      "the sum is:   38\n",
      "the sum is:   44\n",
      "the sum is:   49\n",
      "the sum is:   57\n"
     ]
    }
   ],
   "source": [
    "num = [9,8,7,6,5,3,6,5,8]\n",
    "sum = 0 \n",
    "for val in num :\n",
    "    sum = sum+val\n",
    "    print(\"the sum is:  \",sum)"
   ]
  },
  {
   "cell_type": "code",
   "execution_count": 18,
   "id": "2e7ba613",
   "metadata": {},
   "outputs": [
    {
     "name": "stdout",
     "output_type": "stream",
     "text": [
      "the sum is:   9\n",
      "the sum is:   17\n",
      "the sum is:   24\n",
      "the sum is:   30\n",
      "the sum is:   35\n",
      "the sum is:   39\n",
      "the sum is:   42\n",
      "the sum is:   44\n",
      "the sum is:   45\n"
     ]
    }
   ],
   "source": [
    "num = [9,8,7,6,5,4,3,2,1]\n",
    "sum =0\n",
    "for val in num :\n",
    "    sum = sum+val\n",
    "    print(\"the sum is:  \",sum)"
   ]
  },
  {
   "cell_type": "code",
   "execution_count": 20,
   "id": "0a8381cc",
   "metadata": {},
   "outputs": [
    {
     "name": "stdout",
     "output_type": "stream",
     "text": [
      "range(0, 12)\n",
      "[0, 1, 2, 3, 4, 5, 6, 7, 8, 9, 10, 11]\n",
      "[2, 3, 4, 5, 6, 7, 8, 9, 10, 11]\n",
      "[2, 6, 10]\n"
     ]
    }
   ],
   "source": [
    "print(range(12))\n",
    "print(list(range(12)))\n",
    "print(list(range(2,12)))\n",
    "print(list(range(2,12,4)))"
   ]
  },
  {
   "cell_type": "code",
   "execution_count": 21,
   "id": "e955d223",
   "metadata": {},
   "outputs": [
    {
     "name": "stdout",
     "output_type": "stream",
     "text": [
      "range(0, 20)\n",
      "[0, 1, 2, 3, 4, 5, 6, 7, 8, 9, 10, 11, 12, 13, 14, 15, 16, 17, 18, 19]\n",
      "[2, 3, 4, 5, 6, 7, 8, 9, 10, 11, 12, 13, 14, 15, 16, 17, 18, 19]\n",
      "[2, 6, 10, 14, 18]\n"
     ]
    }
   ],
   "source": [
    "print(range(20))\n",
    "print(list(range(20)))\n",
    "print(list(range(2,20)))\n",
    "print(list(range(2,20,4)))"
   ]
  },
  {
   "cell_type": "code",
   "execution_count": 22,
   "id": "94f1f3cb",
   "metadata": {},
   "outputs": [
    {
     "name": "stdout",
     "output_type": "stream",
     "text": [
      " Enter the n value :  9\n",
      "The sum of numbers is  :   1\n",
      "The sum of numbers is  :   3\n",
      "The sum of numbers is  :   6\n",
      "The sum of numbers is  :   10\n",
      "The sum of numbers is  :   15\n",
      "The sum of numbers is  :   21\n",
      "The sum of numbers is  :   28\n",
      "The sum of numbers is  :   36\n",
      "The sum of numbers is  :   45\n"
     ]
    }
   ],
   "source": [
    "n = int( input(\" Enter the n value :  \"))\n",
    "sum = 0\n",
    "i=1\n",
    "while i <= n :\n",
    "    sum = sum +i\n",
    "    i = i+1\n",
    "    print(\"The sum of numbers is  :  \",sum)"
   ]
  },
  {
   "cell_type": "code",
   "execution_count": 23,
   "id": "af49a14e",
   "metadata": {},
   "outputs": [
    {
     "name": "stdout",
     "output_type": "stream",
     "text": [
      " Enter the n value :  100\n",
      "The sum of numbers is  :   1\n",
      "The sum of numbers is  :   3\n",
      "The sum of numbers is  :   6\n",
      "The sum of numbers is  :   10\n",
      "The sum of numbers is  :   15\n",
      "The sum of numbers is  :   21\n",
      "The sum of numbers is  :   28\n",
      "The sum of numbers is  :   36\n",
      "The sum of numbers is  :   45\n",
      "The sum of numbers is  :   55\n",
      "The sum of numbers is  :   66\n",
      "The sum of numbers is  :   78\n",
      "The sum of numbers is  :   91\n",
      "The sum of numbers is  :   105\n",
      "The sum of numbers is  :   120\n",
      "The sum of numbers is  :   136\n",
      "The sum of numbers is  :   153\n",
      "The sum of numbers is  :   171\n",
      "The sum of numbers is  :   190\n",
      "The sum of numbers is  :   210\n",
      "The sum of numbers is  :   231\n",
      "The sum of numbers is  :   253\n",
      "The sum of numbers is  :   276\n",
      "The sum of numbers is  :   300\n",
      "The sum of numbers is  :   325\n",
      "The sum of numbers is  :   351\n",
      "The sum of numbers is  :   378\n",
      "The sum of numbers is  :   406\n",
      "The sum of numbers is  :   435\n",
      "The sum of numbers is  :   465\n",
      "The sum of numbers is  :   496\n",
      "The sum of numbers is  :   528\n",
      "The sum of numbers is  :   561\n",
      "The sum of numbers is  :   595\n",
      "The sum of numbers is  :   630\n",
      "The sum of numbers is  :   666\n",
      "The sum of numbers is  :   703\n",
      "The sum of numbers is  :   741\n",
      "The sum of numbers is  :   780\n",
      "The sum of numbers is  :   820\n",
      "The sum of numbers is  :   861\n",
      "The sum of numbers is  :   903\n",
      "The sum of numbers is  :   946\n",
      "The sum of numbers is  :   990\n",
      "The sum of numbers is  :   1035\n",
      "The sum of numbers is  :   1081\n",
      "The sum of numbers is  :   1128\n",
      "The sum of numbers is  :   1176\n",
      "The sum of numbers is  :   1225\n",
      "The sum of numbers is  :   1275\n",
      "The sum of numbers is  :   1326\n",
      "The sum of numbers is  :   1378\n",
      "The sum of numbers is  :   1431\n",
      "The sum of numbers is  :   1485\n",
      "The sum of numbers is  :   1540\n",
      "The sum of numbers is  :   1596\n",
      "The sum of numbers is  :   1653\n",
      "The sum of numbers is  :   1711\n",
      "The sum of numbers is  :   1770\n",
      "The sum of numbers is  :   1830\n",
      "The sum of numbers is  :   1891\n",
      "The sum of numbers is  :   1953\n",
      "The sum of numbers is  :   2016\n",
      "The sum of numbers is  :   2080\n",
      "The sum of numbers is  :   2145\n",
      "The sum of numbers is  :   2211\n",
      "The sum of numbers is  :   2278\n",
      "The sum of numbers is  :   2346\n",
      "The sum of numbers is  :   2415\n",
      "The sum of numbers is  :   2485\n",
      "The sum of numbers is  :   2556\n",
      "The sum of numbers is  :   2628\n",
      "The sum of numbers is  :   2701\n",
      "The sum of numbers is  :   2775\n",
      "The sum of numbers is  :   2850\n",
      "The sum of numbers is  :   2926\n",
      "The sum of numbers is  :   3003\n",
      "The sum of numbers is  :   3081\n",
      "The sum of numbers is  :   3160\n",
      "The sum of numbers is  :   3240\n",
      "The sum of numbers is  :   3321\n",
      "The sum of numbers is  :   3403\n",
      "The sum of numbers is  :   3486\n",
      "The sum of numbers is  :   3570\n",
      "The sum of numbers is  :   3655\n",
      "The sum of numbers is  :   3741\n",
      "The sum of numbers is  :   3828\n",
      "The sum of numbers is  :   3916\n",
      "The sum of numbers is  :   4005\n",
      "The sum of numbers is  :   4095\n",
      "The sum of numbers is  :   4186\n",
      "The sum of numbers is  :   4278\n",
      "The sum of numbers is  :   4371\n",
      "The sum of numbers is  :   4465\n",
      "The sum of numbers is  :   4560\n",
      "The sum of numbers is  :   4656\n",
      "The sum of numbers is  :   4753\n",
      "The sum of numbers is  :   4851\n",
      "The sum of numbers is  :   4950\n",
      "The sum of numbers is  :   5050\n"
     ]
    }
   ],
   "source": [
    "n = int( input(\" Enter the n value :  \"))\n",
    "sum = 0\n",
    "i=1\n",
    "while i <= n :\n",
    "    sum = sum +i\n",
    "    i = i+1\n",
    "    print(\"The sum of numbers is  :  \",sum)"
   ]
  },
  {
   "cell_type": "markdown",
   "id": "af8f6655",
   "metadata": {},
   "source": [
    "# Thank you sir ....this is kishore"
   ]
  }
 ],
 "metadata": {
  "kernelspec": {
   "display_name": "Python 3 (ipykernel)",
   "language": "python",
   "name": "python3"
  },
  "language_info": {
   "codemirror_mode": {
    "name": "ipython",
    "version": 3
   },
   "file_extension": ".py",
   "mimetype": "text/x-python",
   "name": "python",
   "nbconvert_exporter": "python",
   "pygments_lexer": "ipython3",
   "version": "3.9.12"
  }
 },
 "nbformat": 4,
 "nbformat_minor": 5
}
